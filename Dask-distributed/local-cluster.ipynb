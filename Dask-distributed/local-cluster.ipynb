{
 "cells": [
  {
   "cell_type": "code",
   "execution_count": null,
   "id": "98776673-f8ed-4d72-9749-1ed5c36e7325",
   "metadata": {},
   "outputs": [],
   "source": [
    "from pprint import pprint\n",
    "\n",
    "import dask\n",
    "import dask.dataframe as dd\n",
    "\n",
    "ddf = dask.datasets.timeseries(partition_freq=\"6d\")\n",
    "ddf = ddf.assign(x=ddf.x**2)\n",
    "ddf"
   ]
  },
  {
   "cell_type": "code",
   "execution_count": null,
   "id": "3e081c0e-0111-4efe-9b8c-e3bda56e611a",
   "metadata": {},
   "outputs": [],
   "source": [
    "import os\n",
    "# The jupyter notebook is launched from your $HOME directory.\n",
    "# Change the working directory to the workshop directory\n",
    "# which was created in your username directory under /scratch/vp91\n",
    "os.chdir(os.path.expandvars(\"/scratch/vp91/$USER/\"))"
   ]
  },
  {
   "cell_type": "code",
   "execution_count": null,
   "id": "67388a86-5c25-4c77-b3c8-c9876ac7a537",
   "metadata": {},
   "outputs": [],
   "source": [
    "from distributed import LocalCluster, Client\n",
    "cluster = LocalCluster()\n",
    "cluster"
   ]
  },
  {
   "cell_type": "code",
   "execution_count": null,
   "id": "70b33dc5-2357-4101-9268-10e7777c58d5",
   "metadata": {},
   "outputs": [],
   "source": [
    "client = Client(cluster)\n",
    "client"
   ]
  },
  {
   "cell_type": "code",
   "execution_count": null,
   "id": "5f147184-f72d-430d-b32d-028de4559538",
   "metadata": {},
   "outputs": [],
   "source": [
    "client.who_has()"
   ]
  },
  {
   "cell_type": "code",
   "execution_count": null,
   "id": "e580d9d5-553b-4d76-b90c-e65131907d26",
   "metadata": {},
   "outputs": [],
   "source": [
    "ddf.visualize()"
   ]
  },
  {
   "cell_type": "code",
   "execution_count": null,
   "id": "4049eac7-6eb6-497b-aaa3-2f849528fcf6",
   "metadata": {},
   "outputs": [],
   "source": [
    "client.get_versions(check=True)"
   ]
  },
  {
   "cell_type": "code",
   "execution_count": null,
   "id": "d4b691ce-131c-4b7a-8562-acdfb23f46de",
   "metadata": {},
   "outputs": [],
   "source": [
    "def slow_increment(x):\n",
    "    return x+1"
   ]
  },
  {
   "cell_type": "code",
   "execution_count": null,
   "id": "29417074-bc4e-4bd3-b25c-7aa95a089e96",
   "metadata": {},
   "outputs": [],
   "source": [
    "futures = client.submit(slow_increment, 5000)"
   ]
  },
  {
   "cell_type": "code",
   "execution_count": null,
   "id": "3f9a06f2-439b-49f1-af80-154cc7fdac44",
   "metadata": {},
   "outputs": [],
   "source": [
    "futures"
   ]
  },
  {
   "cell_type": "code",
   "execution_count": null,
   "id": "459e4016-825d-498f-a5ea-d1ab2f4498b8",
   "metadata": {},
   "outputs": [],
   "source": [
    "import dask.array as da\n",
    "from dask.diagnostics import Profiler, ResourceProfiler, CacheProfiler\n",
    "a = da.random.random(size=(100, 100), )\n",
    "q, r = da.linalg.qr(a)\n",
    "a2 = q.dot(r)"
   ]
  },
  {
   "cell_type": "code",
   "execution_count": null,
   "id": "499229f9-fc8b-49b1-bb51-dc5d51d9a801",
   "metadata": {},
   "outputs": [],
   "source": [
    "with Profiler() as prof, ResourceProfiler(dt=0.25) as rprof, CacheProfiler() as cprof:\n",
    "    out = a2.compute()"
   ]
  },
  {
   "cell_type": "code",
   "execution_count": null,
   "id": "5a378f4b-f0cc-45a9-a409-49c08abe5ef9",
   "metadata": {},
   "outputs": [],
   "source": [
    "prof.visualize()"
   ]
  },
  {
   "cell_type": "code",
   "execution_count": null,
   "id": "1be9a7f9-4619-4cb4-86de-7b91b1c646ac",
   "metadata": {},
   "outputs": [],
   "source": []
  },
  {
   "cell_type": "code",
   "execution_count": null,
   "id": "81f63611-a5ae-4612-86c3-f82265336c36",
   "metadata": {},
   "outputs": [],
   "source": []
  },
  {
   "cell_type": "code",
   "execution_count": null,
   "id": "bc30ed27-8dce-4985-a3e9-10cbc242c6f2",
   "metadata": {},
   "outputs": [],
   "source": []
  }
 ],
 "metadata": {
  "kernelspec": {
   "display_name": "Python 3 (ipykernel)",
   "language": "python",
   "name": "python3"
  },
  "language_info": {
   "codemirror_mode": {
    "name": "ipython",
    "version": 3
   },
   "file_extension": ".py",
   "mimetype": "text/x-python",
   "name": "python",
   "nbconvert_exporter": "python",
   "pygments_lexer": "ipython3",
   "version": "3.9.2"
  }
 },
 "nbformat": 4,
 "nbformat_minor": 5
}
